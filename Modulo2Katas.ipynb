{
 "cells": [
  {
   "cell_type": "markdown",
   "metadata": {},
   "source": [
    "Crea un entorno virtual mediante venv\n",
    "\n",
    "Ejecutar en su terminal: python3 -m venv env\n",
    "\n",
    "   python3 -m venv env \n",
    "Ahora tienes un directorio (folder) env creado en tu terminal.\n",
    "\n",
    "Ejecuta el comando para activar el entorno virtual: source env/bin/activate\n",
    "\n",
    "source env/bin/activate\n",
    "# Windows\n",
    "env\\bin\\activate\n",
    "\n",
    "# Linux, WSL or macOS\n",
    "source env/bin/activate\n",
    "Ahora ves en tu terminal (env). Eso significa que has activado tu entorno virtual y se ha aislado del resto de tu máquina.\n",
    "\n",
    "Instalar una biblioteca\n",
    "Ahora que estás dentro de tu entorno virtual, puedes instalar una biblioteca y saber que la biblioteca solo existirá en el entorno virtual.\n",
    "\n",
    "Ejecuta el comando pip freeze para ver las bibliotecas instaladas en tu entorno:\n",
    "\n",
    "pip freeze\n",
    "No deberías obtener respuesta. A continuación, veamos cómo cambia la salida de pip freeze cuando se agrega una biblioteca (un paquete).\n",
    "\n",
    "Ejecuta el comando pip install para instalar una biblioteca:\n",
    "\n",
    "pip install python-dateutil\n",
    "Un gran mensaje de salida de texto dice que está instalando tu biblioteca, y debe terminar con la siguiente oración:\n",
    "\n",
    "Successfully installed python-dateutil-2.8.2 six-1.16.0\n",
    "Vuelve a ejecutar pip freeze para ver cómo ha cambiado tu lista de bibliotecas:\n",
    "\n",
    "pip freeze\n",
    "Ahora deberías ver la siguiente lista:\n",
    "\n",
    "python-dateutil==2.8.2\n",
    "six==1.16.0\n",
    "Desactivar un entorno virtual\n",
    "Hasta ahora, has creado un entorno virtual y le has agregado un paquete. Sin embargo, es posible que estés trabajando en varios proyectos de Python y necesites cambiar entre ellos. Para hacer eso, debes salir (desactivar) tu entorno virtual.\n",
    "\n",
    "Ejecuta el comando deactivate:\n",
    "\n",
    "deactivate"
   ]
  }
 ],
 "metadata": {
  "language_info": {
   "name": "python"
  },
  "orig_nbformat": 4
 },
 "nbformat": 4,
 "nbformat_minor": 2
}
