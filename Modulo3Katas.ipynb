{
 "cells": [
  {
   "cell_type": "markdown",
   "metadata": {},
   "source": [
    "# Expresion de Prueba\n",
    "Ejercicio 1"
   ]
  },
  {
   "cell_type": "code",
   "execution_count": 19,
   "metadata": {},
   "outputs": [],
   "source": [
    "a = 97\n",
    "b = 55\n",
    "if a < b:\n",
    "    print(b)\n"
   ]
  },
  {
   "cell_type": "code",
   "execution_count": 20,
   "metadata": {},
   "outputs": [
    {
     "name": "stdout",
     "output_type": "stream",
     "text": [
      "93\n"
     ]
    }
   ],
   "source": [
    "a = 93\n",
    "b = 27\n",
    "if a >= b:\n",
    "    print(a)"
   ]
  },
  {
   "cell_type": "code",
   "execution_count": 21,
   "metadata": {},
   "outputs": [
    {
     "name": "stdout",
     "output_type": "stream",
     "text": [
      "44\n"
     ]
    }
   ],
   "source": [
    "a = 24\n",
    "b = 44\n",
    "if a <= 0:\n",
    "    print(a)\n",
    "print(b)"
   ]
  },
  {
   "cell_type": "code",
   "execution_count": 22,
   "metadata": {},
   "outputs": [
    {
     "name": "stdout",
     "output_type": "stream",
     "text": [
      "93\n"
     ]
    }
   ],
   "source": [
    "a = 93\n",
    "b = 27\n",
    "if a >= b:\n",
    "    print(a)\n",
    "else:\n",
    "    print(b)"
   ]
  },
  {
   "cell_type": "markdown",
   "metadata": {},
   "source": [
    "Advertencia si un asteoride se acerca a la tierra demasiado rapido"
   ]
  },
  {
   "cell_type": "code",
   "execution_count": 13,
   "metadata": {},
   "outputs": [
    {
     "name": "stdout",
     "output_type": "stream",
     "text": [
      "Todo Good\n"
     ]
    }
   ],
   "source": [
    "velocidad_actual_asteroide = 20\n",
    "velocidad_de_cuidado_asteroide = 25\n",
    "if velocidad_actual_asteroide > velocidad_de_cuidado_asteroide:\n",
    "    print(\"Cuidado\")\n",
    "else:\n",
    "    print(\"Todo Good\")\n"
   ]
  },
  {
   "cell_type": "code",
   "execution_count": 17,
   "metadata": {},
   "outputs": [
    {
     "name": "stdout",
     "output_type": "stream",
     "text": [
      "Nada que Temer\n"
     ]
    }
   ],
   "source": [
    "asteroide_peligro = 20\n",
    "velocidad_actual_asteroide = 19\n",
    "if velocidad_actual_asteroide > asteroide_peligro:\n",
    "    print(\"Busquen Rayo de Luz\")\n",
    "elif velocidad_actual_asteroide == asteroide_peligro:\n",
    "    print(\"Busquen Rayo de Luz\")\n",
    "else:\n",
    "    print(\"Nada que Temer\")\n"
   ]
  },
  {
   "cell_type": "code",
   "execution_count": 1,
   "metadata": {},
   "outputs": [
    {
     "name": "stdout",
     "output_type": "stream",
     "text": [
      "No Pasa Nada\n"
     ]
    }
   ],
   "source": [
    "velocidad_actual_asteroide = 19\n",
    "tamaño_asteroide = 24\n",
    "tamaño_asteroide_minimo = 25\n",
    "asteroide_peligro = 20\n",
    "velocidad_de_cuidado_asteroide = 20\n",
    "if velocidad_actual_asteroide >= velocidad_de_cuidado_asteroide and tamaño_asteroide > tamaño_asteroide_minimo:\n",
    "    print(\"Se Acabo Todo\")\n",
    "elif velocidad_actual_asteroide >=asteroide_peligro:\n",
    "    print(\"Vean el Rayo de Luz\")\n",
    "elif tamaño_asteroide < tamaño_asteroide_minimo:\n",
    "    print(\"No Pasa Nada\")\n",
    "else: \n",
    "    print(\"No Pasa Nada de Nada\")\n",
    "\n",
    "\n"
   ]
  }
 ],
 "metadata": {
  "interpreter": {
   "hash": "3bb03df91ec1981933db38e9cd509750fbcc8736096f2f96108c21544a6fd7c7"
  },
  "kernelspec": {
   "display_name": "Python 3.10.2 64-bit",
   "language": "python",
   "name": "python3"
  },
  "language_info": {
   "codemirror_mode": {
    "name": "ipython",
    "version": 3
   },
   "file_extension": ".py",
   "mimetype": "text/x-python",
   "name": "python",
   "nbconvert_exporter": "python",
   "pygments_lexer": "ipython3",
   "version": "3.10.2"
  },
  "orig_nbformat": 4
 },
 "nbformat": 4,
 "nbformat_minor": 2
}
